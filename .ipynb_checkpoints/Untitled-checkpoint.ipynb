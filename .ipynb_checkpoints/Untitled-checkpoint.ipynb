{
 "cells": [
  {
   "cell_type": "code",
   "execution_count": 4,
   "metadata": {},
   "outputs": [],
   "source": [
    "import numpy as np\n",
    "import gym\n",
    "import keras\n",
    "import copy\n",
    "import os\n",
    "\n",
    "\n",
    "class Agent():\n",
    "    def __init__(self, discount_factor=1, learning_rate=0.0001, exploration_rate=0.3, min_exploration_rate=0.05, exploration_rate_reduction=0.1):\n",
    "        self.brain = self.make_model()\n",
    "        self.memory = []\n",
    "        self.env = gym.make('Acrobot-v1')\n",
    "        self.discount_factor = discount_factor\n",
    "        self.learning_rate = learning_rate\n",
    "        self.exploration_rate = exploration_rate\n",
    "        self.min_exloration_rate = min_exploration_rate\n",
    "        self.exploration_rate_reduction = exploration_rate_reduction\n",
    "\n",
    "    def play(self, num_episodes=10, num_steps=30):\n",
    "        self.memory = []\n",
    "        for episode in range(num_episodes):\n",
    "            observation = self.env.reset()\n",
    "            for step in range(num_steps):\n",
    "                # self.env.render()\n",
    "                initial_observation = observation.reshape(1, -1)\n",
    "                initial_q_values = self.brain.predict(initial_observation).flatten()\n",
    "                action = np.argmax(initial_q_values)\n",
    "                observation, reward, done, _ = self.env.step(action)\n",
    "                q_values = self.brain.predict(observation.reshape(1, -1)).flatten()\n",
    "                target = copy.copy(initial_q_values)\n",
    "                target[action] = initial_q_values[action] + self.learning_rate * (initial_q_values[action] - (reward + self.discount_factor * np.max(q_values)))\n",
    "                self.memory.append((initial_observation, initial_q_values, observation, q_values, target, action, reward, done))\n",
    "                if done:\n",
    "                    break\n",
    "\n",
    "    def learn_from_memory(self, batch_size=10, num_epochs=1):\n",
    "        self.memory = np.asarray(self.memory)\n",
    "        x = self.memory[:, 0]\n",
    "        y = self.memory[:, 4]\n",
    "        x = np.concatenate(x)\n",
    "        y = np.concatenate(y).reshape(-1, 2)\n",
    "        for epoch in range(num_epochs):\n",
    "            self.brain.fit(x, y, batch_size=batch_size, shuffle=True)\n",
    "\n",
    "    def train(self, num_training_sessions=2000):\n",
    "        min_brain_size = np.asarray(self.memory).size\n",
    "        for training_session in range(num_training_sessions):\n",
    "            print(\"This is training session number %s\" % (training_session))\n",
    "            self.play()\n",
    "            if np.asarray(self.memory).size < min_brain_size:\n",
    "                self.brain.save(model_name)\n",
    "                min_brain_size = np.asarray(self.memory).size\n",
    "            self.learn_from_memory()\n",
    "            self.exploration_rate = max(self.min_exloration_rate, self.exploration_rate * self.exploration_rate_reduction)\n",
    "\n",
    "    def make_model(self):\n",
    "        inputs = keras.layers.Input(shape=(6,))\n",
    "        x = keras.layers.Dense(64, activation='linear')(inputs)\n",
    "        x = keras.layers.LeakyReLU(alpha=0.3)(x)\n",
    "        x = keras.layers.Dense(128, activation='linear')(x)\n",
    "        x = keras.layers.LeakyReLU(alpha=0.3)(x)\n",
    "        predictions = keras.layers.Dense(2, activation='linear')(x)\n",
    "\n",
    "        model = keras.Model(inputs=inputs, outputs=predictions)\n",
    "        model.compile(optimizer='adam', loss='mean_squared_error')\n",
    "        return model"
   ]
  },
  {
   "cell_type": "code",
   "execution_count": 12,
   "metadata": {},
   "outputs": [],
   "source": [
    "agent = Agent(exploration_rate=0, min_exploration_rate=0)\n",
    "agent.play(num_episodes=1, num_steps=1)"
   ]
  },
  {
   "cell_type": "code",
   "execution_count": 13,
   "metadata": {},
   "outputs": [
    {
     "data": {
      "text/plain": [
       "[(array([[ 9.99999996e-01, -8.91522615e-05,  9.96388998e-01,\n",
       "           8.49056255e-02,  2.41670091e-02, -3.23217256e-02]]),\n",
       "  array([-0.01841734, -0.14496998], dtype=float32),\n",
       "  array([ 0.99981334,  0.01932064,  0.99935511,  0.03590777,  0.16433238,\n",
       "         -0.44685902]),\n",
       "  array([ 0.06218744, -0.12766051], dtype=float32),\n",
       "  array([-0.0183254 , -0.14496998], dtype=float32),\n",
       "  0,\n",
       "  -1.0,\n",
       "  False)]"
      ]
     },
     "execution_count": 13,
     "metadata": {},
     "output_type": "execute_result"
    }
   ],
   "source": [
    "agent.memory"
   ]
  },
  {
   "cell_type": "code",
   "execution_count": null,
   "metadata": {},
   "outputs": [],
   "source": []
  }
 ],
 "metadata": {
  "kernelspec": {
   "display_name": "Python 3",
   "language": "python",
   "name": "python3"
  },
  "language_info": {
   "codemirror_mode": {
    "name": "ipython",
    "version": 3
   },
   "file_extension": ".py",
   "mimetype": "text/x-python",
   "name": "python",
   "nbconvert_exporter": "python",
   "pygments_lexer": "ipython3",
   "version": "3.7.6"
  },
  "toc": {
   "base_numbering": 1,
   "nav_menu": {},
   "number_sections": false,
   "sideBar": true,
   "skip_h1_title": false,
   "title_cell": "Table of Contents",
   "title_sidebar": "Contents",
   "toc_cell": false,
   "toc_position": {},
   "toc_section_display": true,
   "toc_window_display": true
  }
 },
 "nbformat": 4,
 "nbformat_minor": 4
}
