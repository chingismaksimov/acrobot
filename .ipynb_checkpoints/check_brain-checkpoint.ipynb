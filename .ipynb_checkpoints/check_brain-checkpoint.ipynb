{
 "cells": [
  {
   "cell_type": "code",
   "execution_count": 39,
   "metadata": {},
   "outputs": [],
   "source": [
    "import numpy as np\n",
    "import gym\n",
    "import keras\n",
    "import copy\n",
    "import os\n",
    "import time\n",
    "\n",
    "model_name = \"trained_model.h5\"\n",
    "if os.path.exists(model_name):\n",
    "    os.remove(model_name)\n",
    "\n",
    "\n",
    "class Agent():\n",
    "    def __init__(self, discount_factor=1, learning_rate=0.05, min_learning_rate=0.0001, learning_rate_reduction=0.999, exploration_rate=0.8, min_exploration_rate=0.01, exploration_rate_reduction=0.95, num_episodes=1, num_steps=400, batch_size=10, num_epochs=1, num_training_sessions=100):\n",
    "        self.brain = self.make_model()\n",
    "        self.memory = []\n",
    "        self.env = gym.make('Acrobot-v1')\n",
    "        self.discount_factor = discount_factor\n",
    "        self.learning_rate = learning_rate\n",
    "        self.min_learning_rate = min_learning_rate\n",
    "        self.learning_rate_reduction = learning_rate_reduction\n",
    "        self.exploration_rate = exploration_rate\n",
    "        self.min_exloration_rate = min_exploration_rate\n",
    "        self.exploration_rate_reduction = exploration_rate_reduction\n",
    "        self.num_episodes = num_episodes\n",
    "        self.num_steps = num_steps\n",
    "        self.batch_size = batch_size\n",
    "        self.num_epochs = num_epochs\n",
    "        self.num_training_sessions = num_training_sessions\n",
    "\n",
    "    def play(self):\n",
    "        self.memory = []\n",
    "        for episode in range(self.num_episodes):\n",
    "            observation = self.env.reset()\n",
    "            for step in range(self.num_steps):\n",
    "                # self.env.render()\n",
    "                initial_observation = observation.reshape(1, -1)\n",
    "                initial_q_values = self.brain.predict(initial_observation).flatten()\n",
    "                action = np.argmax(initial_q_values)\n",
    "                observation, reward, done, _ = self.env.step(action)\n",
    "                if done:\n",
    "                    q_values = self.brain.predict(observation.reshape(1, -1)).flatten()\n",
    "                    target = copy.copy(initial_q_values)\n",
    "                    target[action] = initial_q_values[action] + self.learning_rate * (100 - initial_q_values[action])\n",
    "                    self.memory.append((initial_observation, initial_q_values, observation, q_values, target, action, reward, done))\n",
    "                else:\n",
    "                    q_values = self.brain.predict(observation.reshape(1, -1)).flatten()\n",
    "                    target = copy.copy(initial_q_values)\n",
    "                    target[action] = initial_q_values[action] + self.learning_rate * (reward + self.discount_factor * np.max(q_values) - initial_q_values[action])\n",
    "                    self.memory.append((initial_observation, initial_q_values, observation, q_values, target, action, reward, done))\n",
    "\n",
    "    def learn_from_memory(self):\n",
    "        self.memory = np.asarray(self.memory)\n",
    "        x = self.memory[:, 0]\n",
    "        y = self.memory[:, 4]\n",
    "        x = np.concatenate(x)\n",
    "        y = np.concatenate(y).reshape(-1, 2)\n",
    "        for epoch in range(self.num_epochs):\n",
    "            self.brain.fit(x, y, batch_size=self.batch_size, shuffle=True)\n",
    "\n",
    "    def train(self):\n",
    "        min_brain_size = self.num_episodes * self.num_steps\n",
    "        for training_session in range(self.num_training_sessions):\n",
    "            print(\"This is training session number %s\" % (training_session))\n",
    "            print(\"The current exploration rate is %s\" % (self.exploration_rate))\n",
    "            print(\"The current learning rate is %s\" % (self.learning_rate))\n",
    "            self.play()\n",
    "            if np.asarray(self.memory).size < min_brain_size:\n",
    "                self.brain.save(model_name)\n",
    "                min_brain_size = np.asarray(self.memory).size\n",
    "            self.learn_from_memory()\n",
    "            self.exploration_rate = max(self.min_exloration_rate, self.exploration_rate * self.exploration_rate_reduction)\n",
    "            self.learning_rate = max(self.min_learning_rate, self.learning_rate * self.learning_rate_reduction)\n",
    "\n",
    "    def make_model(self):\n",
    "        inputs = keras.layers.Input(shape=(6,))\n",
    "        x = keras.layers.Dense(256, activation='linear')(inputs)\n",
    "        x = keras.layers.Dropout(0.3)(x)\n",
    "        x = keras.layers.LeakyReLU(alpha=0.3)(x)\n",
    "        x = keras.layers.Dense(512, activation='linear')(x)\n",
    "        x = keras.layers.Dropout(0.3)(x)\n",
    "        x = keras.layers.LeakyReLU(alpha=0.3)(x)\n",
    "        predictions = keras.layers.Dense(2, activation='linear')(x)\n",
    "\n",
    "        model = keras.Model(inputs=inputs, outputs=predictions)\n",
    "        model.compile(optimizer='adam', loss='mean_squared_error')\n",
    "        return model\n",
    "\n",
    "\n",
    "agent = Agent(discount_factor=1, learning_rate=0.05, min_learning_rate=0.001, learning_rate_reduction=0.995, exploration_rate=0.20, min_exploration_rate=0.01, exploration_rate_reduction=0.99, num_episodes=1, num_steps=400, batch_size=10, num_epochs=1, num_training_sessions=10000)"
   ]
  },
  {
   "cell_type": "code",
   "execution_count": 57,
   "metadata": {},
   "outputs": [],
   "source": [
    "agent = Agent()\n",
    "agent.play()"
   ]
  },
  {
   "cell_type": "code",
   "execution_count": 58,
   "metadata": {},
   "outputs": [
    {
     "data": {
      "text/plain": [
       "(array([[ 0.99369662,  0.11210279,  0.94713857, -0.32082478,  0.32431479,\n",
       "         -0.72334788]]),\n",
       " array([ 0.15064   , -0.02651778], dtype=float32),\n",
       " array([ 0.98605619,  0.1664127 ,  0.89841971, -0.43913782,  0.21015677,\n",
       "        -0.52929944]),\n",
       " array([ 0.12800154, -0.03011816], dtype=float32),\n",
       " array([ 0.09950808, -0.02651778], dtype=float32),\n",
       " 0,\n",
       " -1.0,\n",
       " False)"
      ]
     },
     "execution_count": 58,
     "metadata": {},
     "output_type": "execute_result"
    }
   ],
   "source": [
    "agent.memory[-1]"
   ]
  },
  {
   "cell_type": "code",
   "execution_count": 59,
   "metadata": {},
   "outputs": [
    {
     "data": {
      "text/plain": [
       "0.0757245372980833"
      ]
     },
     "execution_count": 59,
     "metadata": {},
     "output_type": "execute_result"
    }
   ],
   "source": [
    "agent.memory[0][1][agent.memory[0][5]] + agent.learning_rate * (agent.memory[0][6] + agent.discount_factor * np.max(agent.memory[0][3]) - agent.memory[0][1][agent.memory[0][5]])"
   ]
  },
  {
   "cell_type": "code",
   "execution_count": 60,
   "metadata": {},
   "outputs": [
    {
     "data": {
      "text/plain": [
       "0.12447051"
      ]
     },
     "execution_count": 60,
     "metadata": {},
     "output_type": "execute_result"
    }
   ],
   "source": [
    "agent.memory[0][1][agent.memory[0][5]]"
   ]
  },
  {
   "cell_type": "code",
   "execution_count": 61,
   "metadata": {},
   "outputs": [
    {
     "data": {
      "text/plain": [
       "0.05"
      ]
     },
     "execution_count": 61,
     "metadata": {},
     "output_type": "execute_result"
    }
   ],
   "source": [
    "agent.learning_rate"
   ]
  },
  {
   "cell_type": "code",
   "execution_count": 53,
   "metadata": {},
   "outputs": [
    {
     "data": {
      "text/plain": [
       "-1.0"
      ]
     },
     "execution_count": 53,
     "metadata": {},
     "output_type": "execute_result"
    }
   ],
   "source": [
    "agent.memory[0][6]"
   ]
  },
  {
   "cell_type": "code",
   "execution_count": 54,
   "metadata": {},
   "outputs": [
    {
     "data": {
      "text/plain": [
       "1"
      ]
     },
     "execution_count": 54,
     "metadata": {},
     "output_type": "execute_result"
    }
   ],
   "source": [
    "agent.discount_factor"
   ]
  },
  {
   "cell_type": "code",
   "execution_count": 55,
   "metadata": {},
   "outputs": [
    {
     "data": {
      "text/plain": [
       "0.13653791"
      ]
     },
     "execution_count": 55,
     "metadata": {},
     "output_type": "execute_result"
    }
   ],
   "source": [
    "np.max(agent.memory[0][3])"
   ]
  },
  {
   "cell_type": "code",
   "execution_count": null,
   "metadata": {},
   "outputs": [],
   "source": []
  }
 ],
 "metadata": {
  "kernelspec": {
   "display_name": "Python 3",
   "language": "python",
   "name": "python3"
  },
  "language_info": {
   "codemirror_mode": {
    "name": "ipython",
    "version": 3
   },
   "file_extension": ".py",
   "mimetype": "text/x-python",
   "name": "python",
   "nbconvert_exporter": "python",
   "pygments_lexer": "ipython3",
   "version": "3.7.6"
  },
  "toc": {
   "base_numbering": 1,
   "nav_menu": {},
   "number_sections": false,
   "sideBar": true,
   "skip_h1_title": false,
   "title_cell": "Table of Contents",
   "title_sidebar": "Contents",
   "toc_cell": false,
   "toc_position": {},
   "toc_section_display": true,
   "toc_window_display": true
  }
 },
 "nbformat": 4,
 "nbformat_minor": 4
}
